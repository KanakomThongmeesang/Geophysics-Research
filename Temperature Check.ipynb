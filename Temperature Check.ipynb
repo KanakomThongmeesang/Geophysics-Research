{
 "cells": [
  {
   "cell_type": "code",
   "execution_count": 4,
   "id": "628301b4",
   "metadata": {},
   "outputs": [
    {
     "name": "stdout",
     "output_type": "stream",
     "text": [
      "2027.7777777777778\n"
     ]
    }
   ],
   "source": [
    "#Table1 T_surf and T_0 being accurate\n",
    "#find delta_T\n",
    "T_surf = 730\n",
    "T_0 = 0.36\n",
    "delta_T = T_surf/T_0\n",
    "print (delta_T)"
   ]
  },
  {
   "cell_type": "code",
   "execution_count": 40,
   "id": "226b2448",
   "metadata": {},
   "outputs": [
    {
     "name": "stdout",
     "output_type": "stream",
     "text": [
      "0.35784313725490197\n"
     ]
    }
   ],
   "source": [
    "#Table2 T_surf and delta_T being accurate\n",
    "#find T_0\n",
    "T_surf = 730\n",
    "delta_T = 2040\n",
    "T_0 = T_surf/delta_T\n",
    "print (T_0)"
   ]
  },
  {
   "cell_type": "code",
   "execution_count": 50,
   "id": "68eb621c",
   "metadata": {},
   "outputs": [
    {
     "name": "stdout",
     "output_type": "stream",
     "text": [
      "734.4\n"
     ]
    }
   ],
   "source": [
    "#Table3 T_0 and delta_T being accurate\n",
    "#find T_surf\n",
    "T_0 = 0.36\n",
    "delta_T = 2040\n",
    "T_surf = T_0*delta_T\n",
    "print (T_surf)"
   ]
  },
  {
   "cell_type": "code",
   "execution_count": 5,
   "id": "864772d2",
   "metadata": {},
   "outputs": [
    {
     "name": "stdout",
     "output_type": "stream",
     "text": [
      "8.778237326959355\n"
     ]
    }
   ],
   "source": [
    "A = 148000/(R*delta_T)\n",
    "print (A)"
   ]
  },
  {
   "cell_type": "code",
   "execution_count": 3,
   "id": "aec063d9",
   "metadata": {},
   "outputs": [
    {
     "name": "stdout",
     "output_type": "stream",
     "text": [
      "111201.00353200668\n"
     ]
    }
   ],
   "source": [
    "R = 8.3144598\n",
    "Ea = 6.5956*R*delta_T\n",
    "print (Ea)"
   ]
  },
  {
   "cell_type": "code",
   "execution_count": null,
   "id": "39922cb1",
   "metadata": {},
   "outputs": [],
   "source": []
  }
 ],
 "metadata": {
  "kernelspec": {
   "display_name": "Python 3 (ipykernel)",
   "language": "python",
   "name": "python3"
  },
  "language_info": {
   "codemirror_mode": {
    "name": "ipython",
    "version": 3
   },
   "file_extension": ".py",
   "mimetype": "text/x-python",
   "name": "python",
   "nbconvert_exporter": "python",
   "pygments_lexer": "ipython3",
   "version": "3.8.12"
  }
 },
 "nbformat": 4,
 "nbformat_minor": 5
}
