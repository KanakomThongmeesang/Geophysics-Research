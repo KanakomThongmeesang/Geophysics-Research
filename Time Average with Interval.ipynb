{
 "cells": [
  {
   "cell_type": "markdown",
   "id": "b0bb5a53",
   "metadata": {},
   "source": [
    "# Time average with specific interval"
   ]
  },
  {
   "cell_type": "code",
   "execution_count": 2,
   "id": "8d7bb500",
   "metadata": {},
   "outputs": [],
   "source": [
    "def consecutivity(lst):\n",
    "    f = open('A9.9Ys1.0e7To0.11_time.txt', \"r\")\n",
    "    content = f.readlines()\n",
    "    f.close()\n",
    "    istep = []\n",
    "    consecutive_list = []\n",
    "    y = 0\n",
    "    for i in range(len(content)):\n",
    "        x = content[i].split()\n",
    "        istep.append(x[0])\n",
    "    del istep[0]\n",
    "    istep_num = ([float(y) for y in istep])\n",
    "    for i in range(len(istep_num)):\n",
    "        x = istep_num[i]\n",
    "        if x == y+1 or x == 0:\n",
    "            consecutive_list.append(lst[i])\n",
    "            y = istep_num[i]\n",
    "        else:\n",
    "            pass\n",
    "    return(consecutive_list)"
   ]
  },
  {
   "cell_type": "code",
   "execution_count": 7,
   "id": "1de7fc7d",
   "metadata": {},
   "outputs": [],
   "source": [
    "def Time_Average(float_list):\n",
    "    f = open('A9.9Ys1.0e7To0.11_time.txt', \"r\")\n",
    "    content = f.readlines()\n",
    "    f.close()\n",
    "    time = [] \n",
    "    delta_tn = [] #$t_{n+1}-t_{n}$ list\n",
    "    Fn = [] #Fn represents the function of $\\fracT_{{n+1}+T_{n}}{2}$ list but for arbitary variable insted of T_{n}\n",
    "    integrand = [] #$t_{n+1}-t_{n}$ * \\fracT_{{n+1}+T_{n}}{2}$ list\n",
    "    for i in range(len(content)):\n",
    "        v = content[i].split()\n",
    "        time.append(v[1])\n",
    "    del time[0]\n",
    "    time = ([float(y) for y in time])\n",
    "    time_con = consecutivity(time)\n",
    "    \n",
    "    dummy_timecon = []\n",
    "    dummy_float = []\n",
    "    for i in range(len(time_con)):\n",
    "        if time_con[i] >= 0.01:\n",
    "            dummy_timecon.append(time_con[i])\n",
    "            dummy_float.append(float_list[i])\n",
    "        else:\n",
    "            pass\n",
    "    \n",
    "    for i in range(len(dummy_timecon)-1):\n",
    "        d = (dummy_timecon[i+1] - dummy_timecon[i])\n",
    "        delta_tn.append(d)\n",
    "        F = (dummy_float[i+1] + dummy_float[i])/2\n",
    "        Fn.append(F)\n",
    "    for num1, num2 in zip(delta_tn, Fn):\n",
    "        integrand.append(num1 * num2)\n",
    "    sum_integrand = sum(integrand)\n",
    "    float_list_avg = (1/(dummy_timecon[-1]-dummy_timecon[0]))*sum_integrand\n",
    "    return float_list_avg"
   ]
  },
  {
   "cell_type": "code",
   "execution_count": 8,
   "id": "47d73928",
   "metadata": {},
   "outputs": [
    {
     "name": "stdout",
     "output_type": "stream",
     "text": [
      "Calculated internal heating rate: 20.058990096997146\n",
      "Time average of non-dimensional mean temperature: 0.5494114485217498\n",
      "Time average of non-dimensional heat flux at the surface: 16.210877659332592\n",
      "Time average of non-dimensional heat flux at the CMB: 12.642814130369759\n"
     ]
    }
   ],
   "source": [
    "f = open('A9.9Ys1.0e7To0.11_time.txt', \"r\") #Time average code final\n",
    "                                            #Change the file name to change the case\n",
    "content = f.readlines()\n",
    "f.close()\n",
    "Tmean_str = []\n",
    "F_top_str = []\n",
    "F_bot_str = [] \n",
    "for i in range(len(content)):\n",
    "    x = content[i].split() #x will be a string list of a line in content\n",
    "    Tmean_str.append(x[5]) #Column 5 for the mean temperature\n",
    "    F_top_str.append(x[2])\n",
    "    F_bot_str.append(x[3])\n",
    "del Tmean_str[0]\n",
    "del F_top_str[0]\n",
    "del F_bot_str[0]\n",
    "Tmean_num = ([float(a) for a in Tmean_str])\n",
    "F_top_num = ([float(b) for b in F_top_str])\n",
    "F_bot_num = ([float(c) for c in F_bot_str])\n",
    "\n",
    "Tmean_con = consecutivity(Tmean_num) #Getting rid of repeated steps\n",
    "F_top_con = consecutivity(F_top_num)\n",
    "F_bot_con = consecutivity(F_bot_num)\n",
    "\n",
    "Tmean_avg = Time_Average(Tmean_con) #Time average of non-dimensional mean temperature\n",
    "F_top_avg = Time_Average(F_top_con) #Time average of non-dimensional heat flux at the surface\n",
    "F_bot_avg = Time_Average(F_bot_con) #Time average of non-dimensional heat flux at the CMB\n",
    "#print(len(Tmean_con), len(Tmean_num))\n",
    "Rh_avg = 3*((F_top_avg - (F_bot_avg)*(0.55**2))/(1+0.55+(0.55**2))) #Calculated internal heating rate code final\n",
    "print('Calculated internal heating rate:', Rh_avg)\n",
    "print('Time average of non-dimensional mean temperature:',Tmean_avg)\n",
    "print('Time average of non-dimensional heat flux at the surface:',F_top_avg)\n",
    "print('Time average of non-dimensional heat flux at the CMB:',F_bot_avg)"
   ]
  },
  {
   "cell_type": "code",
   "execution_count": null,
   "id": "6ac32b0b",
   "metadata": {},
   "outputs": [],
   "source": []
  }
 ],
 "metadata": {
  "kernelspec": {
   "display_name": "Python 3 (ipykernel)",
   "language": "python",
   "name": "python3"
  },
  "language_info": {
   "codemirror_mode": {
    "name": "ipython",
    "version": 3
   },
   "file_extension": ".py",
   "mimetype": "text/x-python",
   "name": "python",
   "nbconvert_exporter": "python",
   "pygments_lexer": "ipython3",
   "version": "3.8.12"
  }
 },
 "nbformat": 4,
 "nbformat_minor": 5
}
